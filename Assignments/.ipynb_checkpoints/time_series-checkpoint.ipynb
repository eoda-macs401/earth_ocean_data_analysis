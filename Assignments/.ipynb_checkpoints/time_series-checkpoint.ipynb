{
 "cells": [
  {
   "cell_type": "markdown",
   "id": "5c95fbb7-aab5-43ca-9435-736dbc9c7b2e",
   "metadata": {},
   "source": [
    "# Optional Assignment 10: Time Series Play\n",
    "\n",
    "1. Find a time series (via a web portal, check out the following options):\n",
    "\n",
    "- IRIS Seismic Data: http://service.iris.edu/irisws/timeseries/1/\n",
    "- NOAA Buoy Data: https://www.ndbc.noaa.gov/realtime.shtml\n",
    "- Stream Guage Data: https://waterdata.usgs.gov/nwis/uv\n",
    "- Atmospheric CO2: https://gml.noaa.gov/ccgg/trends/data.html"
   ]
  },
  {
   "cell_type": "markdown",
   "id": "9bde9d12-85e7-498a-b451-248e6de07235",
   "metadata": {},
   "source": [
    "\n",
    " 2.Import the Data into a Python Interpreter"
   ]
  },
  {
   "cell_type": "code",
   "execution_count": null,
   "id": "6bb95ced-9078-4c93-86c5-7b6667443680",
   "metadata": {},
   "outputs": [],
   "source": []
  },
  {
   "cell_type": "markdown",
   "id": "18d6f5e8-38c0-43f6-96e0-2b0689f67219",
   "metadata": {},
   "source": [
    "3.Clean up the data and make sure it is a relatively well behaved time series. Then plot it. "
   ]
  },
  {
   "cell_type": "code",
   "execution_count": null,
   "id": "95176db8-8ba8-41d8-961d-5b9d3bddc39b",
   "metadata": {},
   "outputs": [],
   "source": []
  },
  {
   "cell_type": "markdown",
   "id": "96c7e62a-6b77-49df-a350-e45e0b1461eb",
   "metadata": {},
   "source": [
    "4.Apply either a spectral analysis or detrend the data!"
   ]
  },
  {
   "cell_type": "code",
   "execution_count": null,
   "id": "b10a740a-4b90-4184-ad62-42258207c79c",
   "metadata": {},
   "outputs": [],
   "source": []
  }
 ],
 "metadata": {
  "kernelspec": {
   "display_name": "Python 3 (ipykernel)",
   "language": "python",
   "name": "python3"
  },
  "language_info": {
   "codemirror_mode": {
    "name": "ipython",
    "version": 3
   },
   "file_extension": ".py",
   "mimetype": "text/x-python",
   "name": "python",
   "nbconvert_exporter": "python",
   "pygments_lexer": "ipython3",
   "version": "3.10.4"
  }
 },
 "nbformat": 4,
 "nbformat_minor": 5
}
