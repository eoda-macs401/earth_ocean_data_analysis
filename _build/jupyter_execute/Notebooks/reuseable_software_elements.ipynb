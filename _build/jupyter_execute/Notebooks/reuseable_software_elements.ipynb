{
 "cells": [
  {
   "cell_type": "markdown",
   "metadata": {},
   "source": [
    "# Reuseable Software Elements\n",
    "\n",
    "Scientific software can perhaps be grouped into two categories: single-use \"scripts\" that are used in a very specific context to do a very specific thing (e.g.~to generate a specific figure for a paper), and reuseable components which encapsulate a more generic workflow. Once you find yourself repeating the same chunks of code in many different scripts or projects, it's time to start composing reusable software elements."
   ]
  },
  {
   "cell_type": "markdown",
   "metadata": {},
   "source": [
    "### Modules\n",
    "\n",
    "The basic element of reusability in python is the [module](https://docs.python.org/3/tutorial/modules.html).\n",
    "A module is a `.py` file which contains python objects which can be _imported_ by other scripts or notebooks.\n",
    "Let's illustrate how modules work with a simple example.\n",
    "\n",
    "A common task in geoscience is to calculate the [great-circle distance](https://en.wikipedia.org/wiki/Great-circle_distance) between two points on the globe.\n",
    "There are several [pacakges](https://pypi.python.org/pypi/geopy) that could do this for you, but let's write our own as an example of a module.\n",
    "\n",
    "The formula for great circle distance is\n",
    "\n",
    "![great circle distance formula](https://wikimedia.org/api/rest_v1/media/math/render/svg/75af53b063ee43aed3de186b1a98af5c150185b8)\n",
    "\n",
    "(Note that this formula requires 64-bit precision for adequate accuracy.)\n",
    "\n",
    "Let's write a module to do this calculation. Open a file called `gcdistance.py` in a text editor. (The file should be in the same directory as the notebook you are working in now.) Populate it with the following code:\n",
    "\n",
    "```python\n",
    "\"\"\"\n",
    "A python module for computing great circle distance\n",
    "\"\"\"\n",
    "import numpy as np\n",
    "\n",
    "# approximate radius of Earth\n",
    "R = 6.371e6\n",
    "\n",
    "def great_circle_distance(point1, point2):\n",
    "    \"\"\"Calculate great-circle distance between two points.\n",
    "    \n",
    "    PARAMETERS\n",
    "    ----------\n",
    "    point1 : tuple\n",
    "        A (lat, lon) pair of coordinates in degrees\n",
    "    point2 : tuple\n",
    "        A (lat, lon) pair of coordinates in degrees\n",
    "        \n",
    "    RETURNS\n",
    "    -------\n",
    "    distance : float\n",
    "    \"\"\"\n",
    "    \n",
    "    # unpack coordinates\n",
    "    lat1, lon1 = point1\n",
    "    lat2, lon2 = point2\n",
    "    \n",
    "    # unpack and convert everything to radians\n",
    "    phi1, lambda1, phi2, lambda2 = [np.deg2rad(v) for v in \n",
    "                                    (point1 + point2)]\n",
    "    \n",
    "    # apply formula\n",
    "    # https://en.wikipedia.org/wiki/Great-circle_distance\n",
    "    return R*np.arccos(\n",
    "        np.sin(phi1)*np.sin(phi2) + \n",
    "        np.cos(phi1)*np.cos(phi2)*np.cos(lambda2 - lambda1))\n",
    "```\n",
    "\n",
    "The module begins with a [docstring](https://www.python.org/dev/peps/pep-0257/) explaining what it does. Then it contains some data (just a constant `R`) and a single function.\n",
    "\n",
    "Now let's import our module"
   ]
  },
  {
   "cell_type": "code",
   "execution_count": 1,
   "metadata": {},
   "outputs": [
    {
     "name": "stdout",
     "output_type": "stream",
     "text": [
      "Help on module gcdistance:\n",
      "\n",
      "NAME\n",
      "    gcdistance - A python module for computing great circle distance\n",
      "\n",
      "FUNCTIONS\n",
      "    great_circle_distance(point1, point2)\n",
      "        Calculate great-circle distance between two points.\n",
      "        \n",
      "        PARAMETERS\n",
      "        ----------\n",
      "        point1 : tuple\n",
      "            A (lat, lon) pair of coordinates in degrees\n",
      "        point2 : tuple\n",
      "            A (lat, lon) pair of coordinates in degrees\n",
      "            \n",
      "        RETURNS\n",
      "        -------\n",
      "        distance : float\n",
      "\n",
      "DATA\n",
      "    R = 6371000.0\n",
      "\n",
      "FILE\n",
      "    /Users/emily/Library/CloudStorage/GoogleDrive-rolande2@wwu.edu/My Drive/WWU_Courses_Master/MACS401/EODA_Book/Earth_Ocean_Data_Analysis_MACS401/Notebooks/gcdistance.py\n",
      "\n",
      "\n"
     ]
    }
   ],
   "source": [
    "import gcdistance\n",
    "help(gcdistance) "
   ]
  },
  {
   "cell_type": "markdown",
   "metadata": {},
   "source": [
    "And let's try using it to make a calculation"
   ]
  },
  {
   "cell_type": "code",
   "execution_count": 2,
   "metadata": {},
   "outputs": [
    {
     "data": {
      "text/plain": [
       "1460007.189049398"
      ]
     },
     "execution_count": 2,
     "metadata": {},
     "output_type": "execute_result"
    }
   ],
   "source": [
    "gcdistance.great_circle_distance((60, 0), (50, 15))"
   ]
  },
  {
   "cell_type": "markdown",
   "metadata": {},
   "source": [
    "We could just import the function we need"
   ]
  },
  {
   "cell_type": "code",
   "execution_count": 3,
   "metadata": {},
   "outputs": [
    {
     "data": {
      "text/plain": [
       "6371000.0"
      ]
     },
     "execution_count": 3,
     "metadata": {},
     "output_type": "execute_result"
    }
   ],
   "source": [
    "from gcdistance import R, great_circle_distance\n",
    "R"
   ]
  },
  {
   "cell_type": "markdown",
   "metadata": {},
   "source": [
    "If we change the module, we need to either restart our kernel or else reload the module. (Note that functions imported via `from module import func` cannot be reloaded.)"
   ]
  },
  {
   "cell_type": "code",
   "execution_count": 4,
   "metadata": {},
   "outputs": [
    {
     "data": {
      "text/plain": [
       "<module 'gcdistance' from '/Users/emily/Library/CloudStorage/GoogleDrive-rolande2@wwu.edu/My Drive/WWU_Courses_Master/MACS401/EODA_Book/Earth_Ocean_Data_Analysis_MACS401/Notebooks/gcdistance.py'>"
      ]
     },
     "execution_count": 4,
     "metadata": {},
     "output_type": "execute_result"
    }
   ],
   "source": [
    "from importlib import reload\n",
    "reload(gcdistance) "
   ]
  },
  {
   "cell_type": "markdown",
   "metadata": {},
   "source": [
    "Modules are a simple way to share code between different scripts or notebooks in the same project. _Module files must reside in the same directory as any script which imports them!_ This is a big limitation; it means you can't share modules between different projects.\n",
    "\n",
    "Once you have a piece of code that is general-purpose enough to share between projects, you need to create a package."
   ]
  },
  {
   "cell_type": "markdown",
   "metadata": {},
   "source": [
    "### Aside: Python Style\n",
    "\n",
    "There are few absolute rules for python code style, but there is a detailed [recommended style guide](https://www.python.org/dev/peps/pep-0008/). Some especially relevant points are:\n",
    "\n",
    "* Line length should not exceed 79 characters\n",
    "* Module names should be `lowercase`\n",
    "* Function and variable names should be `lower_case_with_underscores`\n",
    "* Class names should be `CamelCase`"
   ]
  },
  {
   "cell_type": "markdown",
   "metadata": {},
   "source": [
    "### Packages\n",
    "\n",
    "[Packages](https://docs.python.org/3/tutorial/modules.html#packages) are python's way of encapsulating reusable code elements for sharing with others. Packaging is a huge and complicated topic. We will just scratch the surface.\n",
    "\n",
    "We have already interacted with many packages already. Browse some of their github repositories to explore the structure of a large python package:\n",
    "\n",
    "* NumPy: <https://github.com/numpy/numpy>\n",
    "* Pandas: <https://github.com/pandas-dev/pandas>\n",
    "* Xarray: <https://github.com/pydata/xarray>\n",
    "\n",
    "An example of a smaller, more understandable package is our group's xrft package:\n",
    "\n",
    "* xrft: https://github.com/xgcm/xrft\n",
    "\n",
    "These packages all have a common basic structure. Imagine we wanted to turn our great-circle distance module into a package. It would look like this.\n",
    "\n",
    "    README.md\n",
    "    LICENSE\n",
    "    environment.yml\n",
    "    requirements.txt\n",
    "    setup.py\n",
    "    gcdistance/__init__.py\n",
    "    gcdistance/gcdistance.py\n",
    "    gcdistance/tests/__init__.py\n",
    "    gcdistancs/tests/test_gcdistance.py\n",
    "    \n",
    "The actual package is contained in the `gcdistance` subdirectory. The other files are auxilliary files which help others understand and install your package. Here is an overview of what they do\n",
    "\n",
    "| File Name | Purpose |\n",
    "|-----------|---------|\n",
    "| `README.txt` | Explain what the package is for |\n",
    "| `LICENSE` | Defines the legal terms under which other can use the package. [Open source](https://opensource.org/licenses/category) is encouraged! |\n",
    "| `environment.yml` | A conda environment which describes the package's dependencies ([more info](https://conda.io/docs/user-guide/tasks/manage-environments.html#creating-an-environment-from-an-environment-yml-file)) |\n",
    "| `requirements.txt` | A file which describes the package's dependences for pip. ([more info](https://pip.pypa.io/en/stable/user_guide/#requirements-files))|\n",
    "| `setup.py` | A special python script which installs your package. ([more info](https://pythonhosted.org/an_example_pypi_project/setuptools.html)) |\n"
   ]
  },
  {
   "cell_type": "markdown",
   "metadata": {},
   "source": [
    "### The actual package\n",
    "\n",
    "The directory `gcdistance` is the actual package. Any directory that contains an `__init__.py` file is recognized by python as a package. This file can be blank, bu it needs to be present. From the root directory, we can import a module from the package as follows\n",
    "\n",
    "```python\n",
    "from gcdistance import gcdistance\n",
    "```\n",
    "\n",
    "Yes, this is a bit redundant. That's because the `gcdistance.py` module has the same name as the `gcdistance` package directory.\n",
    "\n",
    "However, this import will only work from the parent directory. It is not globally accessible from your python environment."
   ]
  },
  {
   "cell_type": "markdown",
   "metadata": {},
   "source": [
    "`setup.py` is the magic file that makes your package installable and accessible anywhere. Here is an extremely basic `setup.py`\n",
    "\n",
    "```python\n",
    "from setuptools import setup\n",
    "\n",
    "setup(\n",
    "    name = \"gcdistance\",\n",
    "    version = \"0.1.0\",\n",
    "    author = \"Ryan Abernathey\",\n",
    "    packages=['gcdistance'],\n",
    "    install_requires=['numpy'],\n",
    ")\n",
    "```\n",
    "\n",
    "There is a dizzying range of [options](https://setuptools.readthedocs.io/en/latest/setuptools.html) for `setup.py`. More fields are required if you want to [upload your package](https://pythonhosted.org/an_example_pypi_project/setuptools.html) to pypi (so it is installable via `pip`).\n",
    "\n",
    "To run the setup script, we call the following from the command line\n",
    "\n",
    "    python setup.py install\n",
    "    \n",
    "The package files are copied to our python library directory.\n",
    "If we plan to keep developing the package, we can install it in \"developer mode\" as\n",
    "\n",
    "    python setup.py develop\n",
    "\n",
    "In this case, the files are symlinked rather than copied."
   ]
  },
  {
   "cell_type": "markdown",
   "metadata": {},
   "source": [
    "## Testing\n",
    "\n",
    "A software package requires [tests](https://en.wikipedia.org/wiki/Software_testing) to ensure that it works properly. Matt Rocklin has a great [blog post](http://matthewrocklin.com/blog/work/2016/02/08/tests) on why we should write tests for our code.\n",
    "\n",
    "Tests don't have to be complicated. They are simply a check to verify that your code does what it is supposed to do.\n",
    "\n",
    "To add tests to our project, we create create the file `gcdistance/tests/test_gcdistance.py`. (We also need an `__init__.py` file in the `tests` directory.) The example below shows an example of a test function for our package.\n",
    "\n",
    "```python\n",
    "import numpy as np\n",
    "import pytest\n",
    "\n",
    "from gcdistance.gcdistance import great_circle_distance\n",
    "\n",
    "def test_great_circle_distance():\n",
    "    # some known results\n",
    "    # distance between two same points should be zero\n",
    "    assert great_circle_distance((20., 30.), (20., 30.)) == 0\n",
    "\n",
    "    # check distance between new york and london\n",
    "    new_york = 40.7128, -74.0060\n",
    "    london = 51.5074, 0.1278\n",
    "    dist_nyc_london = great_circle_distance(new_york, london)\n",
    "    \n",
    "    # very strict, doesn't actually work\n",
    "    # assert dist_nyc_london == 5.587e6\n",
    "    \n",
    "    # an approximate version of the above\n",
    "    np.testing.assert_allclose(dist_nyc_london, 5.587e6, rtol=1e-5)\n",
    "\n",
    "    # now check that we can't pass the wrong number of arguments\n",
    "    with pytest.raises(TypeError):\n",
    "        great_circle_distance(1, 2, 3, 4)\n",
    "```\n",
    "\n",
    "We will use [pytest](https://docs.pytest.org/en/latest/getting-started.html) to run our tests. If you don't have pytest installed in your active python environment, take a minute to run `pip install pytest` from the command line. Now run\n",
    "\n",
    "```bash\n",
    "py.test -v\n",
    "```\n",
    "\n",
    "from the root directory of your project. You should see a notification that the tests passed. Try playing around with the tests to cause something to fail.\n"
   ]
  },
  {
   "cell_type": "markdown",
   "metadata": {},
   "source": [
    "### Continuous Integration with Travis CI\n",
    "\n",
    "You can configure automatic testing of your package by integrating github with [Travis-CI](https://travis-ci.org/). Travis-CI is a free \"continuous integration\" service: it automatically downloads your package and runs your tests in the cloud every time you commit to your repository. The travis [getting started guide](https://docs.travis-ci.com/user/getting-started) gives a great overview of how to use the service.\n",
    "\n",
    "For us to use travis with our project, the steps are simple:\n",
    "\n",
    "1. Push the repo to github (repo must be public)\n",
    "1. Log in to <https://travis-ci.org> and click the switch to enable your repo\n",
    "1. Add a `.travis.yml` file to your project with the following contents:\n",
    "\n",
    "        language: python\n",
    "        python:\n",
    "        - 3.6\n",
    "        script:\n",
    "        - pytest\n",
    "1. Add the file, commit, and push to github\n",
    "1. Go to <https://travis-ci.org> and watch the magic happen!\n"
   ]
  }
 ],
 "metadata": {
  "gist_id": "f876f1612e470c1b28d25ffce8313dd9",
  "kernelspec": {
   "display_name": "Python 3 (ipykernel)",
   "language": "python",
   "name": "python3"
  },
  "language_info": {
   "codemirror_mode": {
    "name": "ipython",
    "version": 3
   },
   "file_extension": ".py",
   "mimetype": "text/x-python",
   "name": "python",
   "nbconvert_exporter": "python",
   "pygments_lexer": "ipython3",
   "version": "3.10.4"
  }
 },
 "nbformat": 4,
 "nbformat_minor": 4
}