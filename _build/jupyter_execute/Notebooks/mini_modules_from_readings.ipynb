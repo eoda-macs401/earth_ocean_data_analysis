{
 "cells": [
  {
   "cell_type": "markdown",
   "id": "548b869c-8195-4740-a9b6-bf4408a59db6",
   "metadata": {},
   "source": [
    "# Mini Python Modules - From Readings"
   ]
  },
  {
   "cell_type": "markdown",
   "id": "308a8a0e-adc2-499c-9046-287ee632c07b",
   "metadata": {},
   "source": [
    "## Here is fibo.py"
   ]
  },
  {
   "cell_type": "code",
   "execution_count": 1,
   "id": "ed853160-4009-46f4-a455-b180c540d89a",
   "metadata": {},
   "outputs": [],
   "source": [
    "\"\"\"\n",
    "A python module to compute, print or return Fibonacci series\n",
    "\"\"\"\n",
    "def fib(n): # write Fibonacci series up to n \n",
    "    a, b = 0, 1 \n",
    "    while a < n: \n",
    "        print(a, end=' ') \n",
    "        a, b = b, a+b \n",
    "    print() \n",
    "\n",
    "def fib2(n): # return Fibonacci series up to n \n",
    "    result = [] \n",
    "    a, b = 0, 1 \n",
    "    while a < n: \n",
    "        result.append(a) \n",
    "        a, b = b, a+b \n",
    "    return result\n",
    "\n",
    "#Don't worry too much if you don't understand what's happening here:\n",
    "#Uncomment if you want to save as a .py and execute from an interpreter:\n",
    "#if __name__ == \"__main__\":\n",
    "#    import sys\n",
    "#    fib(int(sys.argv[1]))"
   ]
  },
  {
   "cell_type": "markdown",
   "id": "4d6ef468-1fba-4e6a-bd38-f970ebdf699f",
   "metadata": {},
   "source": [
    "I'll test with two function calls below:"
   ]
  },
  {
   "cell_type": "code",
   "execution_count": 2,
   "id": "925ddf5b-c687-4f68-8b71-91b5464a8dea",
   "metadata": {},
   "outputs": [
    {
     "name": "stdout",
     "output_type": "stream",
     "text": [
      "0 1 1 2 3 5 8 13 21 34 55 89 \n"
     ]
    }
   ],
   "source": [
    "fib(100)"
   ]
  },
  {
   "cell_type": "code",
   "execution_count": 3,
   "id": "8885d5e9-21b3-4dce-99b5-99cd0b60c80c",
   "metadata": {},
   "outputs": [
    {
     "name": "stdout",
     "output_type": "stream",
     "text": [
      "[0, 1, 1, 2, 3, 5, 8, 13, 21, 34, 55, 89]\n"
     ]
    }
   ],
   "source": [
    "a = fib2(100)\n",
    "print(a)"
   ]
  },
  {
   "cell_type": "code",
   "execution_count": null,
   "id": "1f72f2a6-c403-4c3f-b380-028840d30dce",
   "metadata": {},
   "outputs": [],
   "source": []
  }
 ],
 "metadata": {
  "kernelspec": {
   "display_name": "Python 3 (ipykernel)",
   "language": "python",
   "name": "python3"
  },
  "language_info": {
   "codemirror_mode": {
    "name": "ipython",
    "version": 3
   },
   "file_extension": ".py",
   "mimetype": "text/x-python",
   "name": "python",
   "nbconvert_exporter": "python",
   "pygments_lexer": "ipython3",
   "version": "3.10.4"
  }
 },
 "nbformat": 4,
 "nbformat_minor": 5
}