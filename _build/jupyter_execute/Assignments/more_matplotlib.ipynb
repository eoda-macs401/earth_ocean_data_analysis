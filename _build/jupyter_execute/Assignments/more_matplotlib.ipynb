{
 "cells": [
  {
   "cell_type": "code",
   "execution_count": null,
   "metadata": {},
   "outputs": [],
   "source": []
  },
  {
   "cell_type": "markdown",
   "metadata": {},
   "source": [
    "# Assignment 6a (optional for 2022): More Matplotlib\n",
    "\n",
    "The goal here is to replicate the figures you see as closely as possible.\n",
    "\n",
    "In order to get some data, you will have to run the code in the cells below. **Don't worry about how this code works.** In the end, it will give you some numpy arrays, which you will use in your plots. You are not allowed to use any packages other than numpy and matplotlib to complete your assignment."
   ]
  },
  {
   "cell_type": "markdown",
   "metadata": {},
   "source": [
    "### Problem 1: Line plots\n",
    "\n",
    "In this problem, we will plot some daily weather data from a NOAA station in [Millbrook, NY](https://www.ncdc.noaa.gov/cdo-web/datasets/GHCND/stations/GHCND:US1NYDT0008/detail). A full description of this dataset is available at: <https://www.ncdc.noaa.gov/data-access/land-based-station-data>\n",
    "\n",
    "The cell below uses pandas to download the data and populate a bunch of numpy arrays (`t_daily_min`, `t_daily_max`, etc.) Run the cell and then use the numpy arrays to try to re-create the plot you see."
   ]
  },
  {
   "cell_type": "code",
   "execution_count": 1,
   "metadata": {},
   "outputs": [],
   "source": [
    "import pooch\n",
    "POOCH = pooch.create(\n",
    "    path=pooch.os_cache(\"noaa-data\"),\n",
    "    # Use the figshare DOI\n",
    "    base_url=\"doi:10.5281/zenodo.5553029/\",\n",
    "    registry={\n",
    "        \"HEADERS.txt\": \"md5:2a306ca225fe3ccb72a98953ded2f536\",\n",
    "        \"CRND0103-2016-NY_Millbrook_3_W.txt\": \"md5:eb69811d14d0573ffa69f70dd9c768d9\",\n",
    "        \"CRND0103-2017-NY_Millbrook_3_W.txt\": \"md5:b911da727ba1bdf26a34a775f25d1088\",\n",
    "        \"CRND0103-2018-NY_Millbrook_3_W.txt\": \"md5:5b61bc687261596eba83801d7080dc56\",\n",
    "        \"CRND0103-2019-NY_Millbrook_3_W.txt\": \"md5:9b814430612cd8a770b72020ca4f2b7d\",\n",
    "        \"CRND0103-2020-NY_Millbrook_3_W.txt\": \"md5:cd8de6d5445024ce35fcaafa9b0e7b64\"\n",
    "    },\n",
    ")\n",
    "\n",
    "\n",
    "import pandas as pd\n",
    "\n",
    "with open(POOCH.fetch(\"HEADERS.txt\")) as fp:\n",
    "    data = fp.read()\n",
    "lines = data.split('\\n')\n",
    "headers = lines[1].split(' ')\n",
    "\n",
    "dframes = []\n",
    "for year in range(2016, 2019):\n",
    "    fname = f'CRND0103-{year}-NY_Millbrook_3_W.txt'               \n",
    "    df = pd.read_csv(POOCH.fetch(fname), parse_dates=[1],\n",
    "                     names=headers, header=None, sep='\\s+',\n",
    "                     na_values=[-9999.0, -99.0])\n",
    "    dframes.append(df)\n",
    "\n",
    "df = pd.concat(dframes)\n",
    "df = df.set_index('LST_DATE')\n",
    "df\n",
    "\n",
    "#########################################################\n",
    "#### BELOW ARE THE VARIABLES YOU SHOULD USE IN THE PLOTS!\n",
    "#### (numpy arrays)  \n",
    "#### NO PANDAS ALLOWED!\n",
    "#########################################################\n",
    "\n",
    "t_daily_min = df.T_DAILY_MIN.values\n",
    "t_daily_max = df.T_DAILY_MAX.values\n",
    "t_daily_mean = df.T_DAILY_MEAN.values\n",
    "p_daily_calc = df.P_DAILY_CALC.values\n",
    "soil_moisture_5 = df.SOIL_MOISTURE_5_DAILY.values\n",
    "soil_moisture_10 = df.SOIL_MOISTURE_10_DAILY.values\n",
    "soil_moisture_20 = df.SOIL_MOISTURE_20_DAILY.values\n",
    "soil_moisture_50 = df.SOIL_MOISTURE_50_DAILY.values\n",
    "soil_moisture_100 = df.SOIL_MOISTURE_100_DAILY.values\n",
    "date = df.index.values"
   ]
  },
  {
   "cell_type": "code",
   "execution_count": 2,
   "metadata": {},
   "outputs": [
    {
     "name": "stdout",
     "output_type": "stream",
     "text": [
      "WBANNO: XXXXX\n",
      "LST_DATE: YYYYMMDD\n",
      "CRX_VN: XXXXXX\n",
      "LONGITUDE: Decimal_degrees\n",
      "LATITUDE: Decimal_degrees\n",
      "T_DAILY_MAX: Celsius\n",
      "T_DAILY_MIN: Celsius\n",
      "T_DAILY_MEAN: Celsius\n",
      "T_DAILY_AVG: Celsius\n",
      "P_DAILY_CALC: mm\n",
      "SOLARAD_DAILY: MJ/m^2\n",
      "SUR_TEMP_DAILY_TYPE: X\n",
      "SUR_TEMP_DAILY_MAX: Celsius\n",
      "SUR_TEMP_DAILY_MIN: Celsius\n",
      "SUR_TEMP_DAILY_AVG: Celsius\n",
      "RH_DAILY_MAX: %\n",
      "RH_DAILY_MIN: %\n",
      "RH_DAILY_AVG: %\n",
      "SOIL_MOISTURE_5_DAILY: m^3/m^3\n",
      "SOIL_MOISTURE_10_DAILY: m^3/m^3\n",
      "SOIL_MOISTURE_20_DAILY: m^3/m^3\n",
      "SOIL_MOISTURE_50_DAILY: m^3/m^3\n",
      "SOIL_MOISTURE_100_DAILY: m^3/m^3\n",
      "SOIL_TEMP_5_DAILY: Celsius\n",
      "SOIL_TEMP_10_DAILY: Celsius\n",
      "SOIL_TEMP_20_DAILY: Celsius\n",
      "SOIL_TEMP_50_DAILY: Celsius\n",
      "SOIL_TEMP_100_DAILY: Celsius\n",
      ": \n"
     ]
    }
   ],
   "source": [
    "units = lines[2].split(' ')\n",
    "for name, unit in zip(headers, units):\n",
    "    print(f'{name}: {unit}')"
   ]
  },
  {
   "cell_type": "code",
   "execution_count": null,
   "metadata": {},
   "outputs": [],
   "source": []
  },
  {
   "cell_type": "markdown",
   "metadata": {},
   "source": [
    "![figure](more_matplotlib_figures/fig1.png)"
   ]
  },
  {
   "cell_type": "markdown",
   "metadata": {
    "tags": []
   },
   "source": [
    "### Problem 2: Contour Plots\n",
    "\n",
    "Now we will visualize some global temperature data from the NCEP-NCAR atmospheric reanalysis."
   ]
  },
  {
   "cell_type": "code",
   "execution_count": 3,
   "metadata": {},
   "outputs": [
    {
     "ename": "ModuleNotFoundError",
     "evalue": "No module named 'xarray'",
     "output_type": "error",
     "traceback": [
      "\u001b[0;31m---------------------------------------------------------------------------\u001b[0m",
      "\u001b[0;31mModuleNotFoundError\u001b[0m                       Traceback (most recent call last)",
      "Input \u001b[0;32mIn [3]\u001b[0m, in \u001b[0;36m<cell line: 1>\u001b[0;34m()\u001b[0m\n\u001b[0;32m----> 1\u001b[0m \u001b[38;5;28;01mimport\u001b[39;00m \u001b[38;5;21;01mxarray\u001b[39;00m \u001b[38;5;28;01mas\u001b[39;00m \u001b[38;5;21;01mxr\u001b[39;00m\n\u001b[1;32m      2\u001b[0m ds_url \u001b[38;5;241m=\u001b[39m \u001b[38;5;124m'\u001b[39m\u001b[38;5;124mhttp://iridl.ldeo.columbia.edu/SOURCES/.NOAA/.NCEP-NCAR/.CDAS-1/.MONTHLY/.Diagnostic/.surface/.temp/dods\u001b[39m\u001b[38;5;124m'\u001b[39m\n\u001b[1;32m      3\u001b[0m ds \u001b[38;5;241m=\u001b[39m xr\u001b[38;5;241m.\u001b[39mopen_dataset(ds_url, decode_times\u001b[38;5;241m=\u001b[39m\u001b[38;5;28;01mFalse\u001b[39;00m)\n",
      "\u001b[0;31mModuleNotFoundError\u001b[0m: No module named 'xarray'"
     ]
    }
   ],
   "source": [
    "import xarray as xr\n",
    "ds_url = 'http://iridl.ldeo.columbia.edu/SOURCES/.NOAA/.NCEP-NCAR/.CDAS-1/.MONTHLY/.Diagnostic/.surface/.temp/dods'\n",
    "ds = xr.open_dataset(ds_url, decode_times=False)\n",
    "\n",
    "#########################################################\n",
    "#### BELOW ARE THE VARIABLES YOU SHOULD USE IN THE PLOTS!\n",
    "#### (numpy arrays) \n",
    "#### NO XARRAY ALLOWED!\n",
    "#########################################################\n",
    "\n",
    "temp = ds.temp[-1].values - 273.15\n",
    "lon = ds.X.values\n",
    "lat = ds.Y.values"
   ]
  },
  {
   "cell_type": "code",
   "execution_count": null,
   "metadata": {},
   "outputs": [],
   "source": []
  },
  {
   "cell_type": "markdown",
   "metadata": {},
   "source": [
    "![fig2](more_matplotlib_figures/fig2.png)"
   ]
  },
  {
   "cell_type": "markdown",
   "metadata": {},
   "source": [
    "### Problem 3: Scatter plots\n",
    "Here we will make a map plot of earthquakes from a USGS catalog of historic large earthquakes. Color the earthquakes by log10(depth) and adjust the marker size to be magntiude$^4$/100"
   ]
  },
  {
   "cell_type": "code",
   "execution_count": null,
   "metadata": {},
   "outputs": [],
   "source": [
    "fname = pooch.retrieve(\n",
    "    \"https://rabernat.github.io/research_computing/signif.txt.tsv.zip\",\n",
    "    known_hash='22b9f7045bf90fb99e14b95b24c81da3c52a0b4c79acf95d72fbe3a257001dbb',\n",
    "    processor=pooch.Unzip()\n",
    ")[0]\n",
    "\n",
    "earthquakes = np.genfromtxt(fname, delimiter='\\t')\n",
    "depth = earthquakes[:, 8]\n",
    "magnitude = earthquakes[:, 9]\n",
    "latitude = earthquakes[:, 20]\n",
    "longitude = earthquakes[:, 21]"
   ]
  },
  {
   "cell_type": "code",
   "execution_count": null,
   "metadata": {},
   "outputs": [],
   "source": []
  },
  {
   "cell_type": "markdown",
   "metadata": {},
   "source": [
    "![fig3](more_matplotlib_figures/fig3.png)"
   ]
  },
  {
   "cell_type": "code",
   "execution_count": null,
   "metadata": {},
   "outputs": [],
   "source": []
  }
 ],
 "metadata": {
  "kernelspec": {
   "display_name": "Python 3 (ipykernel)",
   "language": "python",
   "name": "python3"
  },
  "language_info": {
   "codemirror_mode": {
    "name": "ipython",
    "version": 3
   },
   "file_extension": ".py",
   "mimetype": "text/x-python",
   "name": "python",
   "nbconvert_exporter": "python",
   "pygments_lexer": "ipython3",
   "version": "3.10.4"
  }
 },
 "nbformat": 4,
 "nbformat_minor": 4
}