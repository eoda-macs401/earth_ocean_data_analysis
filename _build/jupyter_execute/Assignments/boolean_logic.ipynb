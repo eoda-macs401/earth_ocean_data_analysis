{
 "cells": [
  {
   "cell_type": "markdown",
   "id": "101ff2f6-fdd3-4281-9668-fb16e60eeb14",
   "metadata": {},
   "source": [
    "# Assignment 4: Playing with boolean logic.\n",
    "For some nice helpful background on Boolean Logic, check out the descriptions on the [Real Python page](https://realpython.com/python-boolean/)."
   ]
  },
  {
   "cell_type": "markdown",
   "id": "19aa1451-ba4f-45ac-880f-f102c367b564",
   "metadata": {},
   "source": [
    "```{admonition} Learning Goals\n",
    ":class: tip\n",
    "\n",
    "This assignment will give you the chance to practice two new things:\n",
    "- Design your own module! With your own problem or goals!\n",
    "- Practice Boolean logic, using boolean operators AND, OR and NOT\n",
    "```"
   ]
  },
  {
   "cell_type": "markdown",
   "id": "f2d7c578-35b9-4931-965c-f73e3203c587",
   "metadata": {},
   "source": [
    "## First, think about writing a decision making or future-prediction program. \n",
    "\n",
    "Articulate in a Markdown cell (here) what you want your program to do. Try to think about a \"story problem\" that could relate to your life, that requires a logic tree such as: \n",
    "- this and this must be true\n",
    "- this or this could be true\n",
    "- neither this or this could be true\n",
    "\n",
    "Describe what your program will do in a sentence or two. \n"
   ]
  },
  {
   "cell_type": "markdown",
   "id": "8aaebec3-8874-40de-867a-02dee7271fb9",
   "metadata": {},
   "source": []
  },
  {
   "cell_type": "markdown",
   "id": "683a0c97-0096-43e0-afd0-7f669c7bd4d8",
   "metadata": {},
   "source": [
    "Next set up the variables that you will use to test two things that will help you make your decision. These can be boolean data types (True or False) like in the in-class demonstration, or could be numbers that you use in a comparison to return a Boolean."
   ]
  },
  {
   "cell_type": "code",
   "execution_count": null,
   "id": "0f13f5fe-144f-4ea4-b834-39478aa1d18c",
   "metadata": {},
   "outputs": [],
   "source": []
  },
  {
   "cell_type": "markdown",
   "id": "6b25ac1a-b1ff-4d95-b25d-6f7c8bc90231",
   "metadata": {},
   "source": [
    "Finally, code up an if, elif, else statement to make a decision or predict the future, using Boolean logic.  \n",
    "\n",
    "Make sure to include print statements so the user knows what is happening. "
   ]
  },
  {
   "cell_type": "code",
   "execution_count": null,
   "id": "78b7d474-ad39-4bc4-bd13-c27a62265582",
   "metadata": {},
   "outputs": [],
   "source": []
  }
 ],
 "metadata": {
  "kernelspec": {
   "display_name": "Python 3 (ipykernel)",
   "language": "python",
   "name": "python3"
  },
  "language_info": {
   "codemirror_mode": {
    "name": "ipython",
    "version": 3
   },
   "file_extension": ".py",
   "mimetype": "text/x-python",
   "name": "python",
   "nbconvert_exporter": "python",
   "pygments_lexer": "ipython3",
   "version": "3.10.4"
  }
 },
 "nbformat": 4,
 "nbformat_minor": 5
}