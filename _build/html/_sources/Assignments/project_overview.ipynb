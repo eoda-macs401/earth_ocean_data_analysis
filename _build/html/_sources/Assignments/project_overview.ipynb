{
 "cells": [
  {
   "cell_type": "markdown",
   "id": "426c403e-fd03-415c-84a9-e7cc221abc2a",
   "metadata": {},
   "source": [
    "# Final Project Readme Assignment - Due 1 Week Before Final Project Due date\n",
    "\n",
    "To prepare for our [Final Project](Pages/projects.md) submissions, prepare the Project Overview page that will be published as the Readme file to go along with yoru GitHub repository that holds your final project notebook and datasets. \n",
    "\n",
    "## At least 1 Week Prior to Final Project Due dates:\n",
    "\n",
    "1. Create a local and remote (hosted on GitHub) repository for your final project, with an appropriate final project name. \n",
    "2. Within your final project folder on your computer, create a Readme.md that will serve as your final project front page, and overview of what you've done.  \n",
    "3. Populate your Readme file with the following information:\n",
    "    - Your project title and your name\n",
    "    - **Goals** Your project data analysis goal, science question or hypothesis.  \n",
    "    - **Motivation** Some amount of background or motivation for your project, to give your audience (me, or another scientists interested in exploring your project) context.\n",
    "    - **Data** An overview of the datasets you're using and a brief description of how youre accessing them.  Include whether your data is accessed from a web portal or included in your GitHub Repository.\n",
    "    - **Alalysis Methods** An overview of the operations and analysis tasks you will incoroprate in your project.\n",
    "    - **Optionally Take-aways or Conclusions** If you have lerned new things from your data or from the process, include them here. \n",
    "    - **References**\n",
    "4. Make sure that your Readme is pushed to GitHub.  Invite the instructor (RolandOcean) to be a collaborator on your GitHub Repostiroy for your Final Project. "
   ]
  },
  {
   "cell_type": "code",
   "execution_count": null,
   "id": "f70b3e18-13a7-424b-b370-ced52dc0b320",
   "metadata": {},
   "outputs": [],
   "source": []
  }
 ],
 "metadata": {
  "kernelspec": {
   "display_name": "Python 3 (ipykernel)",
   "language": "python",
   "name": "python3"
  },
  "language_info": {
   "codemirror_mode": {
    "name": "ipython",
    "version": 3
   },
   "file_extension": ".py",
   "mimetype": "text/x-python",
   "name": "python",
   "nbconvert_exporter": "python",
   "pygments_lexer": "ipython3",
   "version": "3.10.4"
  }
 },
 "nbformat": 4,
 "nbformat_minor": 5
}
