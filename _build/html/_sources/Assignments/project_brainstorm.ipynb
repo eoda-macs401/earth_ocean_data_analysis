{
 "cells": [
  {
   "cell_type": "markdown",
   "metadata": {
    "tags": []
   },
   "source": [
    "## Assignment 5 - Data Analysis Project Brainstorm\n",
    "\n",
    "So far in this course, we have introduced you to a few new tools - these include:\n",
    "  - The Unix operating system, and navigating your file structure using the Command Line\n",
    "  - Basic Python, accessed via Jupyter Notebooks\n",
    "  - Python Functions\n",
    "    \n",
    "Soon, we'll add to this list, focusing on class goals that include:\n",
    "- utilizing packages\n",
    "- working with numpy \n",
    "- making figures (MatPlotLib)\n",
    "- importing complex datasets to a Python project\n",
    "- even, manipulating those datasets (yes, performing data analysis)\n",
    "\n",
    "It's going to be exciting. \n",
    "\n",
    "### Think about your interests and Goals and Brainstorm your Final Project\n",
    "\n",
    "For this assignment, I'd like to you to spend a few moments thinking about how you could apply these new skils to an actual Data Analysis project.  Yeah!! Questions you could consider when you think about this: *Do you have a topic, dataset, or problem that motivated you to want to learn more about data analysis? Are there specific computationals skills, or a diciplinary focus that you think coudl help you with your academic or career goals? Is there a data set you currently have, or that you know of that you'd like to analyze in a certain way, visualize better, or just play around with?*\n",
    "\n",
    "To complete the assignment, you can fill out the following markdown cells (we're using a Jupyter Notebook like a form here!) with answers and ideas to the questions listed. \n",
    "\n",
    "Ambitious but attainable requrements for final projects for this course can be found on the [Final Projects Page](../Pages/projects).  You might want to reference that in your brainstorm session. It describes that your project should _clearly define a hypothesis or scientific goal that you aim to investigate with your analysis_\n",
    "\n",
    "\n",
    "Question 1:  What is a problem you'd like to solve using Data Analysis skills? Think of a question, problem, or transformation that includes a modern dataset that needs to be accessed via computational tools like those we've just started to explore.  This could include exploratory work, or development of a specific kind of Reusable software element (like a calculation, transformation or modeling excercise):"
   ]
  },
  {
   "cell_type": "markdown",
   "metadata": {},
   "source": []
  },
  {
   "cell_type": "markdown",
   "metadata": {},
   "source": [
    "Question 2: What kind of computational steps do you think this project would entail.  At the least, describe in words a few things you think you would need to do. Better - sketch out an 'outline' for a Python project that woudl accomplish these steps. You can refer to simular skills outlined above. "
   ]
  },
  {
   "cell_type": "markdown",
   "metadata": {},
   "source": []
  },
  {
   "cell_type": "markdown",
   "metadata": {},
   "source": [
    "Question 3: What kind of data woudl you use? Be specific here. Is there a data object type that you know you'd be working with?  Are you working with a specific data set, if so, what is the data source? What format does the data come in and how do you access it?"
   ]
  },
  {
   "cell_type": "markdown",
   "metadata": {},
   "source": []
  },
  {
   "cell_type": "markdown",
   "metadata": {},
   "source": [
    "### Challenge: \n",
    "### Practice importing your data into a jupyter notebook!?  \n",
    "\n",
    "This is an advanced challenge based on where we are at in terms of the class, but is and essential step for starting with data analysis.  After you have identified what kind of date you'll be working with, determine the following related requrements:\n",
    "- What tools will you use to import your dataset into a python interpreter? In particular is there a package you'll rely on?\n",
    "- Can you install the necessary package if it's not already installed into your project environment?\n",
    "- Is there a webpage documenting the package?\n",
    "- Can you implement at least a trial import function **in this notebook?**\n",
    "\n",
    "Reference the [All About Data](../Notebooks/data) page for tips on data types and associated packages that are good for working the them.  Ask yourself - is this ascii data or a non-human-readable format?  Can I load my datadset directly over the network via a data stream, or do I need to get it from someone and download it to my computer?\n",
    "\n",
    "Try importint the data to this notebook using an appropriate Package.  If you succeed you'll be well on your way to making progress on your project goals!"
   ]
  },
  {
   "cell_type": "code",
   "execution_count": null,
   "metadata": {},
   "outputs": [],
   "source": []
  },
  {
   "cell_type": "markdown",
   "metadata": {},
   "source": [
    "Submit this file as a notebook (or markdown file... either way) to Canvas *but* keep it handy has it will evolve to the Readme.md file that goes with your Final Project GitHub Repository "
   ]
  },
  {
   "cell_type": "code",
   "execution_count": null,
   "metadata": {},
   "outputs": [],
   "source": []
  }
 ],
 "metadata": {
  "kernelspec": {
   "display_name": "Python 3",
   "language": "python",
   "name": "python3"
  },
  "language_info": {
   "codemirror_mode": {
    "name": "ipython",
    "version": 3
   },
   "file_extension": ".py",
   "mimetype": "text/x-python",
   "name": "python",
   "nbconvert_exporter": "python",
   "pygments_lexer": "ipython3",
   "version": "3.8.5"
  }
 },
 "nbformat": 4,
 "nbformat_minor": 5
}
